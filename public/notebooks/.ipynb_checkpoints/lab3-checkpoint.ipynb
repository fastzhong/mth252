{
 "cells": [
  {
   "cell_type": "code",
   "execution_count": 1,
   "id": "harmful-cinema",
   "metadata": {},
   "outputs": [],
   "source": [
    "import timeit\n",
    "from random import randint\n",
    "from IPython.display import HTML, display\n",
    "\n",
    "# utils for sorting \n",
    "\n",
    "\"\"\"\n",
    "generate an int array \n",
    "n: array size\n",
    "min ≦ arr[i] ≦ max \n",
    "\"\"\"\n",
    "def genRandomArr(n, min, max): \n",
    "    return [randint(min, max) for x in range(n)]\n",
    "\n",
    "\"\"\"\n",
    "generate a nearly ordered int array \n",
    "n: array size\n",
    "\"\"\"\n",
    "def genNearlyOrderedArr(n, swaps):\n",
    "    arr = [i for i in range(n)] #0, 1, 2, ..., n-1\n",
    "    for j in range(swaps):\n",
    "        pos1 = randint(0, n-1)\n",
    "        pos2 = randint(0, n-1)\n",
    "        arr[pos1], arr[pos2] = arr[pos2], arr[pos1] # randomly swap two elements \n",
    "    return arr \n",
    "\n",
    "\"\"\"\n",
    "return True if array is sorted \n",
    "\"\"\"\n",
    "def is_sorted(arr): \n",
    "    for i in range(0, len(arr) - 1): \n",
    "        if arr[i] > arr[i+1]: \n",
    "            return False\n",
    "    return True \n",
    "\n",
    "\"\"\"\n",
    "invoke the sorting function and assert the result is correct \n",
    "func: sorting function \n",
    "arr: arr to be sorted \n",
    "\"\"\"\n",
    "def sort_test(func, arr): \n",
    "    # make a copy of arr since we need to test multiple sorting functions with arr\n",
    "    arr2 = list(arr)  \n",
    "    func(arr2) \n",
    "    print(\"<result> %s:\" % func.__name__.rjust(15), arr2[:10])\n",
    "    assert is_sorted(arr2), \" !!! SORTING ERROR !!!\""
   ]
  },
  {
   "cell_type": "code",
   "execution_count": 2,
   "id": "dried-patent",
   "metadata": {},
   "outputs": [
    {
     "name": "stdout",
     "output_type": "stream",
     "text": [
      "Selection\n"
     ]
    },
    {
     "data": {
      "text/html": [
       "<img src='https://mth252.fastzhong.com/notebooks/sort_selection.gif' style='width: 70%'>"
      ],
      "text/plain": [
       "<IPython.core.display.HTML object>"
      ]
     },
     "metadata": {},
     "output_type": "display_data"
    }
   ],
   "source": [
    "# Selection \n",
    "# sort the arr from left to right \n",
    "# for position i \n",
    "# arr[0, i) sorted, arr[i,n) unsorted \n",
    "# find the smallest from arr[i, n) and place to arr[i]        \n",
    "\n",
    "print(\"Selection\")\n",
    "html = \"\"\"<img src='https://mth252.fastzhong.com/notebooks/sort_selection.gif' style='width: 70%'>\"\"\"\n",
    "display(HTML(html))\n",
    "\n",
    "def sort_selection(arr): \n",
    "    n = len(arr)\n",
    "    for i in range(n - 1): \n",
    "        # look for the min from [i, n-1]\n",
    "        min_pos = i \n",
    "        for j in range(i+1, n): \n",
    "            if arr[j] < arr[min_pos]:\n",
    "                min_pos = j \n",
    "        if min_pos != i: \n",
    "            # move min to arr[i] by swapping arr[i] and arr[min_pos]\n",
    "            arr[i], arr[min_pos] = arr[min_pos], arr[i]\n",
    "    return arr"
   ]
  },
  {
   "cell_type": "code",
   "execution_count": 3,
   "id": "consecutive-factor",
   "metadata": {},
   "outputs": [
    {
     "name": "stdout",
     "output_type": "stream",
     "text": [
      "Insertion\n"
     ]
    },
    {
     "data": {
      "text/html": [
       "<img src='https://mth252.fastzhong.com/notebooks/sort_insertion.gif' style='width: 70%'>"
      ],
      "text/plain": [
       "<IPython.core.display.HTML object>"
      ]
     },
     "metadata": {},
     "output_type": "display_data"
    }
   ],
   "source": [
    "# Insertion \n",
    "# sort the arr from left to right \n",
    "# for postion i\n",
    "# arr[0, i) sorted, arr[i, n) unsorted\n",
    "# insert arr[i] to the proper position on the left \n",
    "\n",
    "print(\"Insertion\")\n",
    "html = \"\"\"<img src='https://mth252.fastzhong.com/notebooks/sort_insertion.gif' style='width: 70%'>\"\"\"\n",
    "display(HTML(html))\n",
    "\n",
    "def sort_insertion(arr): \n",
    "    n = len(arr)\n",
    "    for i in range(n): \n",
    "        tmp = arr[i]\n",
    "        j = i\n",
    "        while j - 1 >= 0 and tmp < arr[j-1] : \n",
    "            # shift arr[j-1] to arr[j]\n",
    "            arr[j] = arr[j-1] \n",
    "            j -= 1\n",
    "        # found the proper position j for tmp \n",
    "        arr[j] = tmp\n",
    "    return arr"
   ]
  },
  {
   "cell_type": "code",
   "execution_count": 4,
   "id": "lucky-hamilton",
   "metadata": {},
   "outputs": [
    {
     "name": "stdout",
     "output_type": "stream",
     "text": [
      "Bubble\n"
     ]
    },
    {
     "data": {
      "text/html": [
       "<img src='https://mth252.fastzhong.com/notebooks/sort_bubble.gif' style='width: 70%'>"
      ],
      "text/plain": [
       "<IPython.core.display.HTML object>"
      ]
     },
     "metadata": {},
     "output_type": "display_data"
    }
   ],
   "source": [
    "# Bubble \n",
    "# sort the arr from right to left\n",
    "# for postion n-i\n",
    "# arr[0, n-i] unsorted, arr(n-i, n) sorted\n",
    "# bubble the biggest to arr[n-i]\n",
    "\n",
    "print(\"Bubble\")\n",
    "html = \"\"\"<img src='https://mth252.fastzhong.com/notebooks/sort_bubble.gif' style='width: 70%'>\"\"\"\n",
    "display(HTML(html))\n",
    "\n",
    "def sort_bubble(arr): \n",
    "    n = len(arr)\n",
    "    for i in range(1, n - 1):  \n",
    "        swap = False  \n",
    "        for j in range(n - i): \n",
    "            if arr[j] > arr[j + 1]:\n",
    "                # bubble up the bigger \n",
    "                arr[j], arr[j+1] = arr[j+1], arr[j]\n",
    "                swap = True\n",
    "        if not swap: \n",
    "            # \"no swap\" means the arr is already sorted \n",
    "            break \n",
    "    return arr\n",
    "\n",
    "def sort_bubble2(arr): \n",
    "    n = len(arr)\n",
    "    i = 1 \n",
    "    while i < (n - 1):  \n",
    "        last_swap = 0  \n",
    "        for j in range(n - i): \n",
    "            if arr[j] > arr[j + 1]:\n",
    "                # bubble up the bigger \n",
    "                arr[j], arr[j+1] = arr[j+1], arr[j]\n",
    "                last_swap = j+1\n",
    "        i = n - last_swap\n",
    "    return arr"
   ]
  },
  {
   "cell_type": "code",
   "execution_count": 8,
   "id": "coupled-glasgow",
   "metadata": {},
   "outputs": [
    {
     "name": "stdout",
     "output_type": "stream",
     "text": [
      "Merge\n"
     ]
    },
    {
     "data": {
      "text/html": [
       "<img src='https://mth252.fastzhong.com/notebooks/sort_merge.gif' style='width: 70%'>"
      ],
      "text/plain": [
       "<IPython.core.display.HTML object>"
      ]
     },
     "metadata": {},
     "output_type": "display_data"
    }
   ],
   "source": [
    "# Merge \n",
    "# sort_merge(arr, l, r): \n",
    "# m = (l + r)/2\n",
    "# recursive sort [l, m]\n",
    "# recursive sort [m+1, r]\n",
    "# merge two sorted array [l, m] & [m+1, r]   \n",
    "\n",
    "print(\"Merge\")\n",
    "html = \"\"\"<img src='https://mth252.fastzhong.com/notebooks/sort_merge.gif' style='width: 70%'>\"\"\"\n",
    "display(HTML(html))\n",
    "\n",
    "# merge two sorted array [l, m] & [m+1, r] \n",
    "def merge(arr, l, m, r): \n",
    "    tmp = arr[l:r+1]\n",
    "    # two pointers \n",
    "    p1 = l   # for 1st array \n",
    "    p2 = m+1 # for 2nd array \n",
    "    cur = l  # target position: [l, r]\n",
    "    while cur <= r:\n",
    "        if p1 > m: \n",
    "            # 1st array done, just copy from 2nd array  \n",
    "            arr[cur] = tmp[p2 - l]\n",
    "            p2 += 1\n",
    "        elif p2 > r: \n",
    "            # 2nd array done, just copy from 1st array  \n",
    "            arr[cur] = tmp[p1 - l]\n",
    "            p1 += 1\n",
    "        else: \n",
    "            # compare p1 and p2 \n",
    "            if tmp[p1 - l] <= tmp[p2 - 1]: \n",
    "                # p1 is smaller so copy from p1 \n",
    "                arr[cur] = tmp[p1 - 1]\n",
    "                p1 += 1 \n",
    "            else:\n",
    "                # p2 is smaller so copy from p2\n",
    "                arr[cur] = tmp[p2 - 1]\n",
    "                p2 += 1\n",
    "        cur += 1\n",
    "    return arr\n",
    "\n",
    "def sort_merge(arr): \n",
    "    return sort_merge_recusive(arr, 0, len(arr) - 1)\n",
    "\n",
    "def sort_merge_recusive(arr, l, r):\n",
    "    if l >= r:\n",
    "        return arr\n",
    "    m = l + (r - l)/2\n",
    "    sort_merge_recusive(arr, l, m)\n",
    "    sort_merge_recusive(arr, m+1, r)\n",
    "    merge(arr, l, m, r)\n",
    "    return arr "
   ]
  },
  {
   "cell_type": "code",
   "execution_count": 6,
   "id": "assured-resident",
   "metadata": {},
   "outputs": [
    {
     "name": "stdout",
     "output_type": "stream",
     "text": [
      "             test random: [10727, 15387, 5945, 3553, 14611, 12299, 3692, 16332, 18726, 1899]\n",
      "<result>  sort_selection: [4, 5, 5, 5, 9, 11, 13, 19, 19, 23]\n",
      "  <time>  sort_selection: 4.007378463999885\n",
      "<result>  sort_insertion: [4, 5, 5, 5, 9, 11, 13, 19, 19, 23]\n",
      "  <time>  sort_insertion: 5.9314578450002955\n",
      "<result>    sort_bubble2: [4, 5, 5, 5, 9, 11, 13, 19, 19, 23]\n",
      "  <time>    sort_bubble2: 10.008070826999756\n"
     ]
    },
    {
     "ename": "TypeError",
     "evalue": "sort_merge_recusive() missing 2 required positional arguments: 'l' and 'r'",
     "output_type": "error",
     "traceback": [
      "\u001b[0;31m---------------------------------------------------------------------------\u001b[0m",
      "\u001b[0;31mTypeError\u001b[0m                                 Traceback (most recent call last)",
      "\u001b[0;32m<ipython-input-6-581a1f713a62>\u001b[0m in \u001b[0;36m<module>\u001b[0;34m\u001b[0m\n\u001b[1;32m      7\u001b[0m \u001b[0msort_timers\u001b[0m \u001b[0;34m=\u001b[0m \u001b[0;34m[\u001b[0m\u001b[0mtimeit\u001b[0m\u001b[0;34m.\u001b[0m\u001b[0mTimer\u001b[0m\u001b[0;34m(\u001b[0m\u001b[0mstmt\u001b[0m\u001b[0;34m=\u001b[0m\u001b[0;34mf\"sort_test({f}, test_random)\"\u001b[0m\u001b[0;34m,\u001b[0m \u001b[0msetup\u001b[0m\u001b[0;34m=\u001b[0m\u001b[0msort_setup\u001b[0m\u001b[0;34m)\u001b[0m \u001b[0;32mfor\u001b[0m \u001b[0mf\u001b[0m \u001b[0;32min\u001b[0m \u001b[0msort_funcs\u001b[0m\u001b[0;34m]\u001b[0m\u001b[0;34m\u001b[0m\u001b[0;34m\u001b[0m\u001b[0m\n\u001b[1;32m      8\u001b[0m \u001b[0;32mfor\u001b[0m \u001b[0mi\u001b[0m\u001b[0;34m,\u001b[0m\u001b[0mt\u001b[0m \u001b[0;32min\u001b[0m \u001b[0menumerate\u001b[0m\u001b[0;34m(\u001b[0m\u001b[0msort_timers\u001b[0m\u001b[0;34m)\u001b[0m\u001b[0;34m:\u001b[0m\u001b[0;34m\u001b[0m\u001b[0;34m\u001b[0m\u001b[0m\n\u001b[0;32m----> 9\u001b[0;31m     \u001b[0mprint\u001b[0m\u001b[0;34m(\u001b[0m\u001b[0;34m\"  <time> %s: %s\"\u001b[0m \u001b[0;34m%\u001b[0m \u001b[0;34m(\u001b[0m\u001b[0msort_funcs\u001b[0m\u001b[0;34m[\u001b[0m\u001b[0mi\u001b[0m\u001b[0;34m]\u001b[0m\u001b[0;34m.\u001b[0m\u001b[0mrjust\u001b[0m\u001b[0;34m(\u001b[0m\u001b[0;36m15\u001b[0m\u001b[0;34m)\u001b[0m\u001b[0;34m,\u001b[0m \u001b[0mt\u001b[0m\u001b[0;34m.\u001b[0m\u001b[0mtimeit\u001b[0m\u001b[0;34m(\u001b[0m\u001b[0mnumber\u001b[0m\u001b[0;34m=\u001b[0m\u001b[0;36m1\u001b[0m\u001b[0;34m)\u001b[0m\u001b[0;34m)\u001b[0m\u001b[0;34m)\u001b[0m\u001b[0;34m\u001b[0m\u001b[0;34m\u001b[0m\u001b[0m\n\u001b[0m",
      "\u001b[0;32m~/opt/anaconda3/envs/mth251/lib/python3.8/timeit.py\u001b[0m in \u001b[0;36mtimeit\u001b[0;34m(self, number)\u001b[0m\n\u001b[1;32m    175\u001b[0m         \u001b[0mgc\u001b[0m\u001b[0;34m.\u001b[0m\u001b[0mdisable\u001b[0m\u001b[0;34m(\u001b[0m\u001b[0;34m)\u001b[0m\u001b[0;34m\u001b[0m\u001b[0;34m\u001b[0m\u001b[0m\n\u001b[1;32m    176\u001b[0m         \u001b[0;32mtry\u001b[0m\u001b[0;34m:\u001b[0m\u001b[0;34m\u001b[0m\u001b[0;34m\u001b[0m\u001b[0m\n\u001b[0;32m--> 177\u001b[0;31m             \u001b[0mtiming\u001b[0m \u001b[0;34m=\u001b[0m \u001b[0mself\u001b[0m\u001b[0;34m.\u001b[0m\u001b[0minner\u001b[0m\u001b[0;34m(\u001b[0m\u001b[0mit\u001b[0m\u001b[0;34m,\u001b[0m \u001b[0mself\u001b[0m\u001b[0;34m.\u001b[0m\u001b[0mtimer\u001b[0m\u001b[0;34m)\u001b[0m\u001b[0;34m\u001b[0m\u001b[0;34m\u001b[0m\u001b[0m\n\u001b[0m\u001b[1;32m    178\u001b[0m         \u001b[0;32mfinally\u001b[0m\u001b[0;34m:\u001b[0m\u001b[0;34m\u001b[0m\u001b[0;34m\u001b[0m\u001b[0m\n\u001b[1;32m    179\u001b[0m             \u001b[0;32mif\u001b[0m \u001b[0mgcold\u001b[0m\u001b[0;34m:\u001b[0m\u001b[0;34m\u001b[0m\u001b[0;34m\u001b[0m\u001b[0m\n",
      "\u001b[0;32m~/opt/anaconda3/envs/mth251/lib/python3.8/timeit.py\u001b[0m in \u001b[0;36minner\u001b[0;34m(_it, _timer)\u001b[0m\n",
      "\u001b[0;32m<ipython-input-1-1c6dc381a2f5>\u001b[0m in \u001b[0;36msort_test\u001b[0;34m(func, arr)\u001b[0m\n\u001b[1;32m     42\u001b[0m     \u001b[0;31m# make a copy of arr since we need to test multiple sorting functions with arr\u001b[0m\u001b[0;34m\u001b[0m\u001b[0;34m\u001b[0m\u001b[0;34m\u001b[0m\u001b[0m\n\u001b[1;32m     43\u001b[0m     \u001b[0marr2\u001b[0m \u001b[0;34m=\u001b[0m \u001b[0mlist\u001b[0m\u001b[0;34m(\u001b[0m\u001b[0marr\u001b[0m\u001b[0;34m)\u001b[0m\u001b[0;34m\u001b[0m\u001b[0;34m\u001b[0m\u001b[0m\n\u001b[0;32m---> 44\u001b[0;31m     \u001b[0mfunc\u001b[0m\u001b[0;34m(\u001b[0m\u001b[0marr2\u001b[0m\u001b[0;34m)\u001b[0m\u001b[0;34m\u001b[0m\u001b[0;34m\u001b[0m\u001b[0m\n\u001b[0m\u001b[1;32m     45\u001b[0m     \u001b[0mprint\u001b[0m\u001b[0;34m(\u001b[0m\u001b[0;34m\"<result> %s:\"\u001b[0m \u001b[0;34m%\u001b[0m \u001b[0mfunc\u001b[0m\u001b[0;34m.\u001b[0m\u001b[0m__name__\u001b[0m\u001b[0;34m.\u001b[0m\u001b[0mrjust\u001b[0m\u001b[0;34m(\u001b[0m\u001b[0;36m15\u001b[0m\u001b[0;34m)\u001b[0m\u001b[0;34m,\u001b[0m \u001b[0marr2\u001b[0m\u001b[0;34m[\u001b[0m\u001b[0;34m:\u001b[0m\u001b[0;36m10\u001b[0m\u001b[0;34m]\u001b[0m\u001b[0;34m)\u001b[0m\u001b[0;34m\u001b[0m\u001b[0;34m\u001b[0m\u001b[0m\n\u001b[1;32m     46\u001b[0m     \u001b[0;32massert\u001b[0m \u001b[0mis_sorted\u001b[0m\u001b[0;34m(\u001b[0m\u001b[0marr2\u001b[0m\u001b[0;34m)\u001b[0m\u001b[0;34m,\u001b[0m \u001b[0;34m\" !!! SORTING ERROR !!!\"\u001b[0m\u001b[0;34m\u001b[0m\u001b[0;34m\u001b[0m\u001b[0m\n",
      "\u001b[0;31mTypeError\u001b[0m: sort_merge_recusive() missing 2 required positional arguments: 'l' and 'r'"
     ]
    }
   ],
   "source": [
    "n = 10000\n",
    "test_random = genRandomArr(n, 0, 2 * n)\n",
    "test_nearly = genNearlyOrderedArr(n, 1)\n",
    "print(\"test random:\".rjust(25), test_random[:10])\n",
    "sort_funcs = [\"sort_selection\", \"sort_insertion\", \"sort_bubble2\", \"sort_merge_recusive\"]\n",
    "sort_setup = \"from __main__ import test_random, test_nearly, sort_test, \" + \",\".join(sort_funcs)\n",
    "sort_timers = [timeit.Timer(stmt=f\"sort_test({f}, test_random)\", setup=sort_setup) for f in sort_funcs]\n",
    "for i,t in enumerate(sort_timers):\n",
    "    print(\"  <time> %s: %s\" % (sort_funcs[i].rjust(15), t.timeit(number=1)))"
   ]
  },
  {
   "cell_type": "code",
   "execution_count": null,
   "id": "horizontal-audit",
   "metadata": {},
   "outputs": [],
   "source": [
    "print(\"test nearly:\".rjust(25), test_nearly[:10])\n",
    "sort_timers = [timeit.Timer(stmt=f\"sort_test({f}, test_nearly)\", setup=sort_setup) for f in sort_funcs]\n",
    "for i,t in enumerate(sort_timers):\n",
    "    print(\"  <time> %s: %s\" % (sort_funcs[i].rjust(15), t.timeit(number=1)))"
   ]
  },
  {
   "cell_type": "code",
   "execution_count": null,
   "id": "durable-retention",
   "metadata": {},
   "outputs": [],
   "source": []
  },
  {
   "cell_type": "code",
   "execution_count": null,
   "id": "cardiac-drain",
   "metadata": {},
   "outputs": [],
   "source": []
  },
  {
   "cell_type": "code",
   "execution_count": null,
   "id": "soviet-apparatus",
   "metadata": {},
   "outputs": [],
   "source": []
  },
  {
   "cell_type": "code",
   "execution_count": null,
   "id": "apparent-pontiac",
   "metadata": {},
   "outputs": [],
   "source": []
  }
 ],
 "metadata": {
  "kernelspec": {
   "display_name": "Python 3",
   "language": "python",
   "name": "python3"
  },
  "language_info": {
   "codemirror_mode": {
    "name": "ipython",
    "version": 3
   },
   "file_extension": ".py",
   "mimetype": "text/x-python",
   "name": "python",
   "nbconvert_exporter": "python",
   "pygments_lexer": "ipython3",
   "version": "3.8.5"
  }
 },
 "nbformat": 4,
 "nbformat_minor": 5
}
