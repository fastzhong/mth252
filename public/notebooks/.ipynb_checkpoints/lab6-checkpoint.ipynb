{
 "cells": [
  {
   "cell_type": "markdown",
   "id": "sixth-convergence",
   "metadata": {},
   "source": [
    "## TMA01"
   ]
  },
  {
   "cell_type": "code",
   "execution_count": 5,
   "id": "mineral-czech",
   "metadata": {},
   "outputs": [],
   "source": [
    "\"\"\"\n",
    "Q6.\n",
    "\n",
    "Develop an algorithm in Python to find a pattern in a text string: \n",
    "\"\"\"\n",
    "def pattern_finder(pattern, text): \n",
    "    # Complete your code here\n",
    "    return "
   ]
  },
  {
   "cell_type": "code",
   "execution_count": 6,
   "id": "convinced-playlist",
   "metadata": {},
   "outputs": [],
   "source": [
    "\"\"\"\n",
    "Q7.\n",
    "\n",
    "Given an integer array, check whether it is a Max Heap, solve this problem by recursion in Python. \n",
    "\"\"\"\n",
    "def check_max_heap(arr):\n",
    "    return"
   ]
  },
  {
   "cell_type": "markdown",
   "id": "arabic-semester",
   "metadata": {},
   "source": [
    "## TMA02"
   ]
  },
  {
   "cell_type": "code",
   "execution_count": 62,
   "id": "ethical-badge",
   "metadata": {},
   "outputs": [],
   "source": [
    "\"\"\"\n",
    "Q7.\n",
    "\n",
    "Prune a binary search tree with low and hight boundaries. \n",
    "\"\"\"\n",
    "\n",
    "class TreeNode: \n",
    "    def __init__(self, val=0, left=None, right=None):\n",
    "        self.val = val\n",
    "        self.left = left\n",
    "        self.right = right\n",
    "\n",
    "def prune_bst(root: TreeNode, l:int, h:int) -> TreeNode:\n",
    "    # complete your code here\n",
    "    # return the root of the tree after pruning \n",
    "    if not root:\n",
    "        return None \n",
    "    if root.val < l: \n",
    "        return prune_bst(root.right, l, h)\n",
    "    if root.val > h:\n",
    "        return prune_bst(root.left, l, h)\n",
    "    root.left = prune_bst(root.left, l, h)\n",
    "    root.right = prune_bst(root.right, l, h)\n",
    "    return root\n",
    "\n",
    "def trav_inorder(root):\n",
    "    if root: \n",
    "        if (root.getLeft()):\n",
    "            # left \n",
    "            for d in trav_inorder(root.getLeft()):\n",
    "                yield d\n",
    "        # root\n",
    "        yield root.getVal()\n",
    "        if (root.getRight()):\n",
    "            # right\n",
    "            for d in trav_inorder(root.getRight()):\n",
    "                yield d \n",
    "\n",
    "html = \"\"\"\n",
    "<img src=\"max_path_sum1.png\">\n",
    "\"\"\"\n",
    "display(HTML(html)) \n",
    "\n",
    "n2 = TreeNode(2)\n",
    "n3 = TreeNode(3)\n",
    "n4 = TreeNode(4)\n",
    "n5 = TreeNode(5)\n",
    "n6 = TreeNode(6)             \n",
    "n7 = TreeNode(7)             \n",
    "n8 = TreeNode(8)\n",
    "n3.left = n2\n",
    "n3.right = n6\n",
    "n6.left = n5\n",
    "n6.right = n7 \n",
    "n5.left = n4\n",
    "n7.right = n8\n",
    "\n",
    "root = prune_bst(n3, 6, 8)\n",
    "\n"
   ]
  },
  {
   "cell_type": "markdown",
   "id": "german-spelling",
   "metadata": {},
   "source": [
    "## TMA03"
   ]
  },
  {
   "cell_type": "code",
   "execution_count": 6,
   "id": "driving-limit",
   "metadata": {},
   "outputs": [
    {
     "data": {
      "text/html": [
       "\n",
       "<img src=\"max_path_sum1.png\">\n"
      ],
      "text/plain": [
       "<IPython.core.display.HTML object>"
      ]
     },
     "metadata": {},
     "output_type": "display_data"
    },
    {
     "name": "stdout",
     "output_type": "stream",
     "text": [
      "max path sum:  16\n"
     ]
    },
    {
     "data": {
      "text/html": [
       "\n",
       "<img src=\"max_path_sum2.png\">\n"
      ],
      "text/plain": [
       "<IPython.core.display.HTML object>"
      ]
     },
     "metadata": {},
     "output_type": "display_data"
    },
    {
     "name": "stdout",
     "output_type": "stream",
     "text": [
      "max path sum:  31\n"
     ]
    }
   ],
   "source": [
    "\"\"\"\n",
    "Q3. \n",
    "\n",
    "Find the path with the maximum sum in a given binary tree. Write a function that returns the maximum sum. A path can be defined as a sequence of nodes between any two nodes and doesn’t necessarily pass through the root.\n",
    "Time Complexity: O(n)\n",
    "Space Complexity: O(n)\n",
    "\"\"\"\n",
    "\n",
    "from collections import deque\n",
    "from typing import List\n",
    "from IPython.display import HTML, display\n",
    "\n",
    "class TreeNode: \n",
    "    def __init__(self, val=0, left=None, right=None):\n",
    "        self.val = val\n",
    "        self.left = left\n",
    "        self.right = right\n",
    "sum = 0\n",
    "def max_path_sum(root):\n",
    "    global sum \n",
    "    # Complete your code here\n",
    "    if root is None:\n",
    "        return 0 \n",
    "    sum_left = max_path_sum(root.left)\n",
    "    sum_right = max_path_sum(root.right)\n",
    "    sum_left = sum_left if sum_left > 0 else 0\n",
    "    sum_right = sum_right if sum_right > 0 else 0\n",
    "    sum = max(sum, sum_left + sum_right + root.val)\n",
    "    return max(sum_left + root.val, sum_right + root.val)\n",
    "\n",
    "from IPython.display import HTML, display\n",
    "\n",
    "html = \"\"\"\n",
    "<img src=\"max_path_sum1.png\">\n",
    "\"\"\"\n",
    "display(HTML(html)) \n",
    "\n",
    "n1 = TreeNode(1)\n",
    "n2 = TreeNode(2)\n",
    "n3 = TreeNode(3)\n",
    "n4 = TreeNode(4)\n",
    "n5 = TreeNode(5)\n",
    "n6 = TreeNode(6)\n",
    "n1.left = n2\n",
    "n1.right = n3 \n",
    "n2.left = n4\n",
    "n3.left = n5\n",
    "n3.right = n6\n",
    "\n",
    "sum = 0\n",
    "max_path_sum(n1)\n",
    "print(\"max path sum: \", sum)\n",
    "\n",
    "\n",
    "html = \"\"\"\n",
    "<img src=\"max_path_sum2.png\">\n",
    "\"\"\"\n",
    "display(HTML(html)) \n",
    "\n",
    "n1 = TreeNode(1)\n",
    "n2 = TreeNode(2)\n",
    "n3 = TreeNode(3)\n",
    "n1x = TreeNode(1)\n",
    "n3x = TreeNode(3)\n",
    "\n",
    "n4 = TreeNode(4)\n",
    "n5 = TreeNode(5)\n",
    "n6 = TreeNode(6)\n",
    "n7 = TreeNode(7)\n",
    "n8 = TreeNode(8)\n",
    "n9 = TreeNode(9)\n",
    "n1.left = n2\n",
    "n1.right = n3 \n",
    "n2.left = n1x\n",
    "n2.right = n3x \n",
    "n3.left = n5\n",
    "n3.right = n6\n",
    "n5.left = n7\n",
    "n5.right = n8\n",
    "n6.right = n9\n",
    "sum = 0\n",
    "max_path_sum(n1)\n",
    "print(\"max path sum: \", sum)"
   ]
  },
  {
   "cell_type": "code",
   "execution_count": 58,
   "id": "unknown-rates",
   "metadata": {},
   "outputs": [
    {
     "name": "stdout",
     "output_type": "stream",
     "text": [
      "True\n",
      "True\n",
      "False\n"
     ]
    }
   ],
   "source": [
    "\"\"\"\n",
    "Q8. \n",
    "\"\"\"\n",
    "\n",
    "def pattern_matcher(pattern, text): \n",
    "    # Complete your code here\n",
    "    p = len(pattern) + 1\n",
    "    t = len(text) + 1\n",
    "    dp = [[False for j in range(p)] for i in range(t)]\n",
    "    dp[0][0] = True\n",
    "    for j in range(2, p, 2): \n",
    "        dp[0][j] = dp[0][j - 2] and pattern[j-1] == \"*\"\n",
    "    for i in range(1, t):\n",
    "        for j in range(1, p): \n",
    "            if pattern[j-1] == \"*\": \n",
    "                if dp[i][j-2]:\n",
    "                    dp[i][j] = True\n",
    "                elif dp[i-1][j] and text[i-1] == pattern[j-2]:\n",
    "                    dp[i][j] = True; \n",
    "                elif dp[i-1][j] and pattern[j-2] == \".\":\n",
    "                    dp[i][j] = True\n",
    "            else: \n",
    "                if dp[i-1][j-1] and text[i-1] == pattern[j-1]:\n",
    "                    dp[i][j] = True\n",
    "                elif dp[i-1][j-1] and pattern[j-1] == '.':\n",
    "                    dp[i][j] = True\n",
    "    return dp[t-1][p-1]\n",
    "\n",
    "print(pattern_matcher(\"a.a\", \"aaa\"))\n",
    "print(pattern_matcher(\"ab*ac*a\", \"aaa\"))\n",
    "print(pattern_matcher(\"aa.a\", \"aaa\"))\n"
   ]
  },
  {
   "cell_type": "code",
   "execution_count": 52,
   "id": "nutritional-amber",
   "metadata": {},
   "outputs": [
    {
     "name": "stdout",
     "output_type": "stream",
     "text": [
      "[[1, 0, 0], [1, 0, 0], [1, 0, 0], [1, 0, 0]]\n"
     ]
    }
   ],
   "source": [
    "dp = [[0] * 3] * 4 \n",
    "dp[0][0] = 1\n",
    "print(dp)"
   ]
  },
  {
   "cell_type": "code",
   "execution_count": null,
   "id": "creative-exemption",
   "metadata": {},
   "outputs": [],
   "source": []
  },
  {
   "cell_type": "code",
   "execution_count": null,
   "id": "national-protocol",
   "metadata": {},
   "outputs": [],
   "source": []
  }
 ],
 "metadata": {
  "kernelspec": {
   "display_name": "Python 3",
   "language": "python",
   "name": "python3"
  },
  "language_info": {
   "codemirror_mode": {
    "name": "ipython",
    "version": 3
   },
   "file_extension": ".py",
   "mimetype": "text/x-python",
   "name": "python",
   "nbconvert_exporter": "python",
   "pygments_lexer": "ipython3",
   "version": "3.8.5"
  }
 },
 "nbformat": 4,
 "nbformat_minor": 5
}
