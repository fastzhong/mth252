{
 "cells": [
  {
   "cell_type": "code",
   "execution_count": 19,
   "id": "69c50002",
   "metadata": {},
   "outputs": [
    {
     "data": {
      "text/html": [
       "<img src='https://mth252.fastzhong.com/notebooks/dfs_undirected.png' style='width:50%'>"
      ],
      "text/plain": [
       "<IPython.core.display.HTML object>"
      ]
     },
     "metadata": {},
     "output_type": "display_data"
    },
    {
     "name": "stdout",
     "output_type": "stream",
     "text": [
      "Vertex Count:  7\n",
      "  Edge Count:  8\n",
      "0 : 1 2\n",
      "1 : 0 3 4\n",
      "2 : 0 3 6\n",
      "3 : 1 2 5\n",
      "4 : 1\n",
      "5 : 3 6\n",
      "6 : 2 5\n"
     ]
    }
   ],
   "source": [
    "# a undirected graph using an adjacency list\n",
    "class UndirectedGraph:\n",
    "\n",
    "    def __init__(self, V, E, edges):\n",
    "        \n",
    "        if V < 0:\n",
    "            raise ValueError(\"V must be non-negative\")\n",
    "        self.V = V\n",
    "\n",
    "        if E < 0:\n",
    "            raise ValueError(\"E must be non-negative\")\n",
    "        self.E = E\n",
    "        \n",
    "        # allocate memory for the adjacency list\n",
    "        self.adjList = [[] for _ in range(V)]\n",
    " \n",
    "        # add edges \n",
    "        for (v1, v2) in edges:\n",
    "            if v1 == v2:\n",
    "                raise ValueError(\"Self Loop is detected\")\n",
    "            if v2 in self.adjList[v1]: \n",
    "                raise ValueError(\"Parallel Edge is detected\")\n",
    "            self.adjList[v1].append(v2)\n",
    "            self.adjList[v2].append(v1)\n",
    "    \n",
    "    def vertex_count(self):\n",
    "        return self.V\n",
    "\n",
    "    def edge_count(self):\n",
    "        return self.E\n",
    "    \n",
    "    def validate_vertex(self, v):\n",
    "        if v < 0 or v >= V:\n",
    "            return False \n",
    "        return True \n",
    "    \n",
    "    def has_edge(self, v, w): \n",
    "        self.validate_vertex(v)\n",
    "        self.validate_vertex(w)\n",
    "        return w in self.adjList[v]\n",
    "    \n",
    "    def incident_edges(self, v): \n",
    "        self.validate_vertex(v)\n",
    "        return self.adjList[v]\n",
    "\n",
    "    def degree(self, v): \n",
    "        self.validate_vertex(v)\n",
    "        return len(self.adjList[v])\n",
    "    \n",
    "    def print_me(self):\n",
    "        print(\"Vertex Count: \", self.V)\n",
    "        print(\"  Edge Count: \", self.E)\n",
    "        for v1 in range(len(self.adjList)):\n",
    "            print(f'{v1} :', end='')\n",
    "            for v2 in self.adjList[v1]:\n",
    "                print(f' {v2}', end='')\n",
    "            print()    \n",
    "            \n",
    "from IPython.display import HTML, display\n",
    "html = \"\"\"<img src='https://mth252.fastzhong.com/notebooks/dfs_undirected.png' style='width:40%'>\"\"\"\n",
    "display(HTML(html))\n",
    "\n",
    "# Input: Edges in a directed graph\n",
    "edges = [(0, 1), (0, 2), (1, 3), (1, 4), (2, 3), (2, 6), (3, 5), (5, 6)]   \n",
    "\n",
    "# No. of vertices (labelled from 0 to 5)\n",
    "V = 7\n",
    "E = len(edges)\n",
    "\n",
    "# construct a graph from a given list of edges\n",
    "g = UndirectedGraph(V, E, edges)\n",
    "\n",
    "# print adjacency list representation of the graph\n",
    "g.print_me()"
   ]
  },
  {
   "cell_type": "code",
   "execution_count": 11,
   "id": "useful-remedy",
   "metadata": {},
   "outputs": [
    {
     "data": {
      "text/html": [
       "<img src='https://mth252.fastzhong.com/notebooks/graph-directed.png' style='width:50%'>"
      ],
      "text/plain": [
       "<IPython.core.display.HTML object>"
      ]
     },
     "metadata": {},
     "output_type": "display_data"
    },
    {
     "name": "stdout",
     "output_type": "stream",
     "text": [
      "Vertex Count:  6\n",
      "  Edge Count:  7\n",
      "(0 → 1) \n",
      "(1 → 2) \n",
      "(2 → 0) (2 → 1) \n",
      "(3 → 2) \n",
      "(4 → 5) \n",
      "(5 → 4) \n",
      "\n"
     ]
    }
   ],
   "source": [
    "# a directed graph using an adjacency list\n",
    "class Digraph:\n",
    "\n",
    "    def __init__(self, V, E, edges):\n",
    "        \n",
    "        if V < 0:\n",
    "            raise ValueError(\"V must be non-negative\")\n",
    "        self.V = V\n",
    "\n",
    "        if E < 0:\n",
    "            raise ValueError(\"e must be non-negative\")\n",
    "        self.E = E\n",
    "        \n",
    "        # allocate memory for the adjacency list\n",
    "        self.adjList = [[] for _ in range(V)]\n",
    " \n",
    "        # add edges to the directed graph\n",
    "        for (src, dest) in edges:\n",
    "            if src == dest:\n",
    "                raise ValueError(\"Self Loop is detected\")\n",
    "            if dest in self.adjList[src]: \n",
    "                raise ValueError(\"Parallel Edge is detected\")\n",
    "            self.adjList[src].append(dest)\n",
    " \n",
    "    def vertex_count(self):\n",
    "        return self.V\n",
    "\n",
    "    def edge_count(self):\n",
    "        return self.E\n",
    "    \n",
    "    def validate_vertex(self, v):\n",
    "        if v < 0 or v >= V:\n",
    "            return False \n",
    "        return True \n",
    "    \n",
    "    def print_me(self):\n",
    "        print(\"Vertex Count: \", self.V)\n",
    "        print(\"  Edge Count: \", self.E)\n",
    "        for src in range(len(self.adjList)):\n",
    "            for dest in self.adjList[src]:\n",
    "                print(f'({src} → {dest}) ', end='')\n",
    "            print()    \n",
    "\n",
    " \n",
    "from IPython.display import HTML, display\n",
    "html = \"\"\"<img src='https://mth252.fastzhong.com/notebooks/graph-directed.png' style='width:40%'>\"\"\"\n",
    "display(HTML(html))\n",
    "\n",
    "# Input: Edges in a directed graph\n",
    "edges = [(0, 1), (1, 2), (2, 0), (2, 1), (3, 2), (4, 5), (5, 4)]\n",
    "\n",
    "# No. of vertices (labelled from 0 to 5)\n",
    "V = 6\n",
    "E = len(edges)\n",
    "\n",
    "# construct a graph from a given list of edges\n",
    "g = Digraph(V, E, edges)\n",
    "\n",
    "# print adjacency list representation of the graph\n",
    "g.print_me()"
   ]
  },
  {
   "cell_type": "code",
   "execution_count": 10,
   "id": "postal-soundtrack",
   "metadata": {},
   "outputs": [
    {
     "data": {
      "text/html": [
       "<img src='https://mth252.fastzhong.com/notebooks/graph-directed-weighted.png' style='width:50%'>"
      ],
      "text/plain": [
       "<IPython.core.display.HTML object>"
      ]
     },
     "metadata": {},
     "output_type": "display_data"
    },
    {
     "name": "stdout",
     "output_type": "stream",
     "text": [
      "Vertex Count:  6\n",
      "  Edge Count:  7\n",
      "(0 → 1, 6) \n",
      "(1 → 2, 7) \n",
      "(2 → 0, 5) (2 → 1, 4) \n",
      "(3 → 2, 10) \n",
      "(4 → 5, 1) \n",
      "(5 → 4, 3) \n"
     ]
    }
   ],
   "source": [
    "# a weighted directed graph using an adjacency list\n",
    "class WeightedDigraph:\n",
    "\n",
    "    def __init__(self, V, E, edges):\n",
    "        \n",
    "        if V < 0:\n",
    "            raise ValueError(\"V must be non-negative\")\n",
    "        self.V = V\n",
    "\n",
    "        if E < 0:\n",
    "            raise ValueError(\"E must be non-negative\")\n",
    "        self.E = E\n",
    " \n",
    "        # A list of lists to represent an adjacency list\n",
    "        self.adjList = [None] * V\n",
    "        for v in range(V):\n",
    "            self.adjList[v] = []\n",
    " \n",
    "        # add edges to the directed graph\n",
    "        for (src, dest, weight) in edges:\n",
    "            if src == dest:\n",
    "                raise ValueError(\"Self Loop is detected\")\n",
    "            if dest in self.adjList[src]: \n",
    "                raise ValueError(\"Parallel Edge is detected\")\n",
    "            self.adjList[src].append((dest, weight))\n",
    " \n",
    "    def vertex_count(self):\n",
    "        return self.V\n",
    "\n",
    "    def edge_count(self):\n",
    "        return self.E\n",
    "    \n",
    "    def validate_vertex(self, v):\n",
    "        if v < 0 or v >= V:\n",
    "            return False \n",
    "        return True \n",
    "    \n",
    "    def print_me(self):\n",
    "        print(\"Vertex Count: \", self.V)\n",
    "        print(\"  Edge Count: \", self.E)\n",
    "        for src in range(len(self.adjList)):\n",
    "            for (dest, weight) in graph.adjList[src]:\n",
    "                print(f'({src} → {dest}, {weight}) ', end='')\n",
    "            print()    \n",
    "            \n",
    " \n",
    "from IPython.display import HTML, display\n",
    "html = \"\"\"<img src='https://mth252.fastzhong.com/notebooks/graph-directed-weighted.png' style='width:40%'>\"\"\"\n",
    "display(HTML(html))\n",
    "\n",
    "# Input: Edges in a weighted digraph (as per the above diagram)\n",
    "# Edge (x, y, w) represents an edge from `x` to `y` having weight `w`\n",
    "edges = [(0, 1, 6), (1, 2, 7), (2, 0, 5), (2, 1, 4), (3, 2, 10), (4, 5, 1), (5, 4, 3)]\n",
    "\n",
    "# No. of vertices (labelled from 0 to 5)\n",
    "V = 6\n",
    "E = len(edges)\n",
    "\n",
    "# construct a graph from a given list of edges\n",
    "g = WeightedDigraph(V, E, edges)\n",
    "\n",
    "# print adjacency list representation of the graph\n",
    "g.print_me()\n",
    " "
   ]
  },
  {
   "cell_type": "code",
   "execution_count": null,
   "id": "internal-child",
   "metadata": {},
   "outputs": [],
   "source": []
  }
 ],
 "metadata": {
  "kernelspec": {
   "display_name": "Python 3 (ipykernel)",
   "language": "python",
   "name": "python3"
  },
  "language_info": {
   "codemirror_mode": {
    "name": "ipython",
    "version": 3
   },
   "file_extension": ".py",
   "mimetype": "text/x-python",
   "name": "python",
   "nbconvert_exporter": "python",
   "pygments_lexer": "ipython3",
   "version": "3.10.4"
  }
 },
 "nbformat": 4,
 "nbformat_minor": 5
}
