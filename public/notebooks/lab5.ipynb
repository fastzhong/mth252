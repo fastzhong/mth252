{
 "cells": [
  {
   "cell_type": "code",
   "execution_count": null,
   "id": "humanitarian-bridal",
   "metadata": {},
   "outputs": [],
   "source": [
    "# a directed graph using an adjacency list\n",
    "\n",
    "class Graph:\n",
    "    # Constructor\n",
    "    def __init__(self, edges, n):\n",
    "        # allocate memory for the adjacency list\n",
    "        self.adjList = [[] for _ in range(n)]\n",
    " \n",
    "        # add edges to the directed graph\n",
    "        for (src, dest) in edges:\n",
    "            # allocate node in adjacency list from src to dest\n",
    "            self.adjList[src].append(dest)\n",
    " \n",
    " \n",
    "# Function to print adjacency list representation of a graph\n",
    "def printGraph(graph):\n",
    "    for src in range(len(graph.adjList)):\n",
    "        # print current vertex and all its neighboring vertices\n",
    "        for dest in graph.adjList[src]:\n",
    "            print(f'({src} —> {dest}) ', end='')\n",
    "        print()\n",
    " \n",
    "from IPython.display import HTML, display\n",
    "html = \"\"\"<img src='https://mth252.fastzhong.com/notebooks/graph-directed.png' style='width:70%'>\"\"\"\n",
    "display(HTML(html))\n",
    "\n",
    "# Input: Edges in a directed graph\n",
    "edges = [(0, 1), (1, 2), (2, 0), (2, 1), (3, 2), (4, 5), (5, 4)]\n",
    "\n",
    "# No. of vertices (labelled from 0 to 5)\n",
    "n = 6\n",
    "\n",
    "# construct a graph from a given list of edges\n",
    "graph = Graph(edges, n)\n",
    "\n",
    "# print adjacency list representation of the graph\n",
    "printGraph(graph)"
   ]
  },
  {
   "cell_type": "code",
   "execution_count": null,
   "id": "organic-period",
   "metadata": {},
   "outputs": [],
   "source": []
  }
 ],
 "metadata": {
  "kernelspec": {
   "display_name": "Python 3",
   "language": "python",
   "name": "python3"
  },
  "language_info": {
   "codemirror_mode": {
    "name": "ipython",
    "version": 3
   },
   "file_extension": ".py",
   "mimetype": "text/x-python",
   "name": "python",
   "nbconvert_exporter": "python",
   "pygments_lexer": "ipython3",
   "version": "3.8.5"
  }
 },
 "nbformat": 4,
 "nbformat_minor": 5
}
