{
 "cells": [
  {
   "cell_type": "code",
   "execution_count": 113,
   "id": "environmental-bottle",
   "metadata": {},
   "outputs": [],
   "source": [
    "import timeit\n",
    "from random import randint\n",
    "from IPython.display import HTML, display\n",
    "\n",
    "# utils for sorting \n",
    "\n",
    "\"\"\"\n",
    "generate an int array \n",
    "n: array size\n",
    "min ≦ arr[i] ≦ max \n",
    "\"\"\"\n",
    "def genRandomArr(n, min, max): \n",
    "    return [randint(min, max) for x in range(n)]\n",
    "\n",
    "\"\"\"\n",
    "generate a nearly ordered int array \n",
    "n: array size\n",
    "\"\"\"\n",
    "def genNearlyOrderedArr(n, swaps):\n",
    "    arr = [i for i in range(n)] #0, 1, 2, ..., n-1\n",
    "    for j in range(swaps):\n",
    "        pos1 = randint(0, n-1)\n",
    "        pos2 = randint(0, n-1)\n",
    "        arr[pos1], arr[pos2] = arr[pos2], arr[pos1] # randomly swap two elements \n",
    "    return arr \n",
    "\n",
    "\"\"\"\n",
    "return True if array is sorted \n",
    "\"\"\"\n",
    "def is_sorted(arr): \n",
    "    for i in range(0, len(arr) - 1): \n",
    "        if arr[i] > arr[i+1]: \n",
    "            return False\n",
    "    return True \n",
    "\n",
    "\"\"\"\n",
    "invoke the sorting function and assert the result is correct \n",
    "func: sorting function \n",
    "arr: arr to be sorted \n",
    "\"\"\"\n",
    "def sort_test(func, arr): \n",
    "    # make a copy of arr since we need to test multiple sorting functions with arr\n",
    "    arr2 = list(arr)  \n",
    "    func(arr2) \n",
    "    print(\"<result> %s:\" % func.__name__.rjust(15), arr2[:10])\n",
    "    assert is_sorted(arr2), \" !!! SORTING ERROR !!!\""
   ]
  },
  {
   "cell_type": "code",
   "execution_count": 114,
   "id": "driving-momentum",
   "metadata": {},
   "outputs": [
    {
     "name": "stdout",
     "output_type": "stream",
     "text": [
      "Selection\n"
     ]
    },
    {
     "data": {
      "text/html": [
       "<img src='https://mth252.fastzhong.com/notebooks/sort_selection.gif' style='width: 70%'>"
      ],
      "text/plain": [
       "<IPython.core.display.HTML object>"
      ]
     },
     "metadata": {},
     "output_type": "display_data"
    }
   ],
   "source": [
    "# Selection \n",
    "# sort the arr from left to right \n",
    "# for position i \n",
    "# arr[0, i) sorted, arr[i,n) unsorted \n",
    "# find the smallest from arr[i, n) and place to arr[i]        \n",
    "\n",
    "print(\"Selection\")\n",
    "html = \"\"\"<img src='https://mth252.fastzhong.com/notebooks/sort_selection.gif' style='width: 70%'>\"\"\"\n",
    "display(HTML(html))\n",
    "\n",
    "def sort_selection(arr): \n",
    "    n = len(arr)\n",
    "    for i in range(n - 1): \n",
    "        # look for the min from [i, n-1]\n",
    "        min_pos = i \n",
    "        for j in range(i+1, n): \n",
    "            if arr[j] < arr[min_pos]:\n",
    "                min_pos = j \n",
    "        if min_pos != i: \n",
    "            # move min to arr[i] by swapping arr[i] and arr[min_pos]\n",
    "            arr[i], arr[min_pos] = arr[min_pos], arr[i]\n",
    "    return arr"
   ]
  },
  {
   "cell_type": "code",
   "execution_count": 115,
   "id": "preliminary-spiritual",
   "metadata": {},
   "outputs": [
    {
     "name": "stdout",
     "output_type": "stream",
     "text": [
      "Insertion\n"
     ]
    },
    {
     "data": {
      "text/html": [
       "<img src='https://mth252.fastzhong.com/notebooks/sort_insertion.gif' style='width: 70%'>"
      ],
      "text/plain": [
       "<IPython.core.display.HTML object>"
      ]
     },
     "metadata": {},
     "output_type": "display_data"
    }
   ],
   "source": [
    "# Insertion \n",
    "# sort the arr from left to right \n",
    "# for postion i\n",
    "# arr[0, i) sorted, arr[i, n) unsorted\n",
    "# insert arr[i] to the proper position on the left \n",
    "\n",
    "print(\"Insertion\")\n",
    "html = \"\"\"<img src='https://mth252.fastzhong.com/notebooks/sort_insertion.gif' style='width: 70%'>\"\"\"\n",
    "display(HTML(html))\n",
    "\n",
    "def sort_insertion(arr): \n",
    "    n = len(arr)\n",
    "    for i in range(n): \n",
    "        tmp = arr[i]\n",
    "        j = i\n",
    "        while j - 1 >= 0 and tmp < arr[j-1] : \n",
    "            # shift arr[j-1] to arr[j]\n",
    "            arr[j] = arr[j-1] \n",
    "            j -= 1\n",
    "        # found the proper position j for tmp \n",
    "        arr[j] = tmp\n",
    "    return arr"
   ]
  },
  {
   "cell_type": "code",
   "execution_count": null,
   "id": "downtown-cannon",
   "metadata": {},
   "outputs": [],
   "source": [
    "# Bubble \n",
    "# sort the arr from right to left\n",
    "# for postion n-i\n",
    "# arr[0, n-i] unsorted, arr(n-i, n) sorted\n",
    "# bubble the biggest to arr[n-i]\n",
    "\n",
    "print(\"Bubble\")\n",
    "html = \"\"\"<img src='https://mth252.fastzhong.com/notebooks/sort_bubble.gif' style='width: 70%'>\"\"\"\n",
    "display(HTML(html))\n",
    "\n",
    "def sort_bubble(arr): \n",
    "    n = len(arr)\n",
    "    for i in range(1, n - 1):  \n",
    "        swap = False  \n",
    "        for j in range(n - i): \n",
    "            if arr[j] > arr[j + 1]:\n",
    "                # bubble up the bigger \n",
    "                arr[j], arr[j+1] = arr[j+1], arr[j]\n",
    "                swap = True\n",
    "        if not swap: \n",
    "            # \"no swap\" means the arr is already sorted \n",
    "            break \n",
    "    return arr"
   ]
  },
  {
   "cell_type": "code",
   "execution_count": null,
   "id": "solid-representative",
   "metadata": {},
   "outputs": [],
   "source": [
    "# Merge \n",
    "\n",
    "print(\"Merge\")\n",
    "html = \"\"\"<img src='https://mth252.fastzhong.com/notebooks/sort_merge.gif' style='width: 70%'>\"\"\"\n",
    "display(HTML(html))"
   ]
  },
  {
   "cell_type": "code",
   "execution_count": null,
   "id": "universal-property",
   "metadata": {},
   "outputs": [],
   "source": [
    "n = 1000\n",
    "test_arr = genRandomArr(n, 0, 2 * n)\n",
    "print(\"test arry:\".rjust(25), test_arr[:10])\n",
    "sort_funcs = [\"sort_selection\", \"sort_insertion\", \"sort_bubble\"]\n",
    "sort_setup = \"from __main__ import test_arr, sort_test, \" + \",\".join(sort_funcs)\n",
    "sort_timers = [timeit.Timer(stmt=f\"sort_test({f}, test_arr)\", setup=sort_setup) for f in sort_funcs]\n",
    "for i,t in enumerate(sort_timers):\n",
    "    print(\"  <time> %s: %s\" % (sort_funcs[i].rjust(15), t.timeit(number=1)))"
   ]
  },
  {
   "cell_type": "code",
   "execution_count": null,
   "id": "eight-portrait",
   "metadata": {},
   "outputs": [],
   "source": []
  },
  {
   "cell_type": "code",
   "execution_count": null,
   "id": "instrumental-munich",
   "metadata": {},
   "outputs": [],
   "source": []
  },
  {
   "cell_type": "code",
   "execution_count": null,
   "id": "palestinian-hanging",
   "metadata": {},
   "outputs": [],
   "source": []
  }
 ],
 "metadata": {
  "kernelspec": {
   "display_name": "Python 3",
   "language": "python",
   "name": "python3"
  },
  "language_info": {
   "codemirror_mode": {
    "name": "ipython",
    "version": 3
   },
   "file_extension": ".py",
   "mimetype": "text/x-python",
   "name": "python",
   "nbconvert_exporter": "python",
   "pygments_lexer": "ipython3",
   "version": "3.8.5"
  }
 },
 "nbformat": 4,
 "nbformat_minor": 5
}
