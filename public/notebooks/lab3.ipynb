{
 "cells": [
  {
   "cell_type": "code",
   "execution_count": 2,
   "id": "viral-professor",
   "metadata": {},
   "outputs": [],
   "source": [
    "from random import randint\n",
    "\n",
    "from IPython.display import HTML, display\n",
    "\n",
    "# utils for sorting \n",
    "\n",
    "\"\"\"\n",
    "generate an int array \n",
    "n: array size\n",
    "min ≦ arr[i] ≦ max \n",
    "\"\"\"\n",
    "def genRandomArr(n, min, max): \n",
    "    return [randint(min, max) for x in range(n)]\n",
    "\n",
    "\"\"\"\n",
    "generate a nearly ordered int array \n",
    "n: array size\n",
    "\"\"\"\n",
    "def genNearlyOrderedArr(n, swaps):\n",
    "    arr = [i for i in range(n)] #0, 1, 2, ..., n-1\n",
    "    for j in range(swaps):\n",
    "        pos1 = randint(0, n-1)\n",
    "        pos2 = randint(0, n-1)\n",
    "        arr[pos1], arr[pos2] = arr[pos2], arr[pos1] # randomly swap two elements \n",
    "    return arr \n",
    "\n",
    "\"\"\"\n",
    "return True if array is sorted \n",
    "\"\"\"\n",
    "def is_sorted(arr): \n",
    "    for i in range(0, len(arr) - 1): \n",
    "        if arr[i] > arr[i+1]: \n",
    "            return False\n",
    "    return True \n",
    "\n",
    "\"\"\"\n",
    "invoke the sorting function and assert the result is correct \n",
    "func: sorting function \n",
    "arr: arr to be sorted \n",
    "\"\"\"\n",
    "def sorting_test(func, arr): \n",
    "    arr = func(arr) \n",
    "    assert is_sorted(arr), \"!!! ERROR !!!\"\n",
    "\n",
    "    \n",
    "\n"
   ]
  },
  {
   "cell_type": "code",
   "execution_count": 3,
   "id": "instructional-asbestos",
   "metadata": {},
   "outputs": [
    {
     "data": {
      "text/html": [
       "<img src='https://mth252.fastzhong.com/notebooks/sort_selection.png' style='width: 70%'>"
      ],
      "text/plain": [
       "<IPython.core.display.HTML object>"
      ]
     },
     "metadata": {},
     "output_type": "display_data"
    }
   ],
   "source": [
    "html = \"\"\"<img src='https://mth252.fastzhong.com/notebooks/sort_selection.gif' style='width: 70%'>\"\"\"\n",
    "display(HTML(html))"
   ]
  },
  {
   "cell_type": "code",
   "execution_count": null,
   "id": "color-orbit",
   "metadata": {},
   "outputs": [],
   "source": []
  }
 ],
 "metadata": {
  "kernelspec": {
   "display_name": "Python 3",
   "language": "python",
   "name": "python3"
  },
  "language_info": {
   "codemirror_mode": {
    "name": "ipython",
    "version": 3
   },
   "file_extension": ".py",
   "mimetype": "text/x-python",
   "name": "python",
   "nbconvert_exporter": "python",
   "pygments_lexer": "ipython3",
   "version": "3.8.5"
  }
 },
 "nbformat": 4,
 "nbformat_minor": 5
}
